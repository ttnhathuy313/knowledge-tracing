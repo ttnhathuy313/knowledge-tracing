{
 "cells": [
  {
   "attachments": {},
   "cell_type": "markdown",
   "metadata": {},
   "source": [
    "## Data exploration"
   ]
  },
  {
   "attachments": {},
   "cell_type": "markdown",
   "metadata": {},
   "source": [
    "#### Loading data"
   ]
  },
  {
   "cell_type": "code",
   "execution_count": 1,
   "metadata": {},
   "outputs": [
    {
     "data": {
      "text/html": [
       "<div>\n",
       "<style scoped>\n",
       "    .dataframe tbody tr th:only-of-type {\n",
       "        vertical-align: middle;\n",
       "    }\n",
       "\n",
       "    .dataframe tbody tr th {\n",
       "        vertical-align: top;\n",
       "    }\n",
       "\n",
       "    .dataframe thead th {\n",
       "        text-align: right;\n",
       "    }\n",
       "</style>\n",
       "<table border=\"1\" class=\"dataframe\">\n",
       "  <thead>\n",
       "    <tr style=\"text-align: right;\">\n",
       "      <th></th>\n",
       "      <th>user_id</th>\n",
       "      <th>log_id</th>\n",
       "      <th>sequence_id</th>\n",
       "      <th>correct</th>\n",
       "    </tr>\n",
       "  </thead>\n",
       "  <tbody>\n",
       "    <tr>\n",
       "      <th>0</th>\n",
       "      <td>50121</td>\n",
       "      <td>167478035</td>\n",
       "      <td>7014</td>\n",
       "      <td>0.0</td>\n",
       "    </tr>\n",
       "    <tr>\n",
       "      <th>1</th>\n",
       "      <td>50121</td>\n",
       "      <td>167478043</td>\n",
       "      <td>7014</td>\n",
       "      <td>1.0</td>\n",
       "    </tr>\n",
       "    <tr>\n",
       "      <th>2</th>\n",
       "      <td>50121</td>\n",
       "      <td>167478053</td>\n",
       "      <td>7014</td>\n",
       "      <td>1.0</td>\n",
       "    </tr>\n",
       "    <tr>\n",
       "      <th>3</th>\n",
       "      <td>50121</td>\n",
       "      <td>167478069</td>\n",
       "      <td>7014</td>\n",
       "      <td>1.0</td>\n",
       "    </tr>\n",
       "    <tr>\n",
       "      <th>4</th>\n",
       "      <td>50964</td>\n",
       "      <td>167478041</td>\n",
       "      <td>7014</td>\n",
       "      <td>1.0</td>\n",
       "    </tr>\n",
       "  </tbody>\n",
       "</table>\n",
       "</div>"
      ],
      "text/plain": [
       "   user_id     log_id  sequence_id  correct\n",
       "0    50121  167478035         7014      0.0\n",
       "1    50121  167478043         7014      1.0\n",
       "2    50121  167478053         7014      1.0\n",
       "3    50121  167478069         7014      1.0\n",
       "4    50964  167478041         7014      1.0"
      ]
     },
     "execution_count": 1,
     "metadata": {},
     "output_type": "execute_result"
    }
   ],
   "source": [
    "import pandas as pd\n",
    "data_csv = pd.read_csv('./data/data-2015.csv')\n",
    "data_csv.head()"
   ]
  },
  {
   "attachments": {},
   "cell_type": "markdown",
   "metadata": {},
   "source": [
    "#### Data Description"
   ]
  },
  {
   "attachments": {},
   "cell_type": "markdown",
   "metadata": {},
   "source": [
    "The data file `data-2015.csv` is the ASSISTments dataset taken from: https://sites.google.com/site/assistmentsdata/datasets/2015-assistments-skill-builder-data. This dataset records the process of students answering questions in problem sets and their performance. The platform being used to collect data is: https://new.assistments.org/"
   ]
  },
  {
   "attachments": {},
   "cell_type": "markdown",
   "metadata": {},
   "source": [
    "Each row of the dataset contains the information of one student answering one question in a particular problem set.\n",
    "\n",
    "- `user_id`: The id number assigned to each students. Each student has one unique id.\n",
    "- `log_id`: The unique log id appeared in the database when the student answer current question. The larger log id is, the later the question was answered.\n",
    "- `sequence_id`: The id of the problem sets that the question is in.\n",
    "- `correct`: The correctness of the student's answer. It ranges from 0.0 to 1.0, where 0.0 means that the student answered incorrectly on the first attempt and 1.0 means that the student answered correctly on the first attempt. There may be values in between the range, however, for this current model, we only focus on the correct values of 0 and 1."
   ]
  },
  {
   "attachments": {},
   "cell_type": "markdown",
   "metadata": {},
   "source": [
    "#### Data analysis"
   ]
  },
  {
   "cell_type": "code",
   "execution_count": 2,
   "metadata": {},
   "outputs": [
    {
     "data": {
      "text/html": [
       "<div>\n",
       "<style scoped>\n",
       "    .dataframe tbody tr th:only-of-type {\n",
       "        vertical-align: middle;\n",
       "    }\n",
       "\n",
       "    .dataframe tbody tr th {\n",
       "        vertical-align: top;\n",
       "    }\n",
       "\n",
       "    .dataframe thead th {\n",
       "        text-align: right;\n",
       "    }\n",
       "</style>\n",
       "<table border=\"1\" class=\"dataframe\">\n",
       "  <thead>\n",
       "    <tr style=\"text-align: right;\">\n",
       "      <th></th>\n",
       "      <th>user_id</th>\n",
       "      <th>log_id</th>\n",
       "      <th>sequence_id</th>\n",
       "      <th>correct</th>\n",
       "    </tr>\n",
       "  </thead>\n",
       "  <tbody>\n",
       "    <tr>\n",
       "      <th>count</th>\n",
       "      <td>708631.000000</td>\n",
       "      <td>7.086310e+05</td>\n",
       "      <td>708631.000000</td>\n",
       "      <td>708631.000000</td>\n",
       "    </tr>\n",
       "    <tr>\n",
       "      <th>mean</th>\n",
       "      <td>296232.978276</td>\n",
       "      <td>1.695323e+08</td>\n",
       "      <td>22683.474821</td>\n",
       "      <td>0.725502</td>\n",
       "    </tr>\n",
       "    <tr>\n",
       "      <th>std</th>\n",
       "      <td>48018.650247</td>\n",
       "      <td>3.608096e+06</td>\n",
       "      <td>41593.028018</td>\n",
       "      <td>0.437467</td>\n",
       "    </tr>\n",
       "    <tr>\n",
       "      <th>min</th>\n",
       "      <td>50121.000000</td>\n",
       "      <td>1.509145e+08</td>\n",
       "      <td>5898.000000</td>\n",
       "      <td>0.000000</td>\n",
       "    </tr>\n",
       "    <tr>\n",
       "      <th>25%</th>\n",
       "      <td>279113.000000</td>\n",
       "      <td>1.660355e+08</td>\n",
       "      <td>7020.000000</td>\n",
       "      <td>0.000000</td>\n",
       "    </tr>\n",
       "    <tr>\n",
       "      <th>50%</th>\n",
       "      <td>299168.000000</td>\n",
       "      <td>1.704579e+08</td>\n",
       "      <td>9424.000000</td>\n",
       "      <td>1.000000</td>\n",
       "    </tr>\n",
       "    <tr>\n",
       "      <th>75%</th>\n",
       "      <td>335647.000000</td>\n",
       "      <td>1.723789e+08</td>\n",
       "      <td>14442.000000</td>\n",
       "      <td>1.000000</td>\n",
       "    </tr>\n",
       "    <tr>\n",
       "      <th>max</th>\n",
       "      <td>362374.000000</td>\n",
       "      <td>1.754827e+08</td>\n",
       "      <td>236309.000000</td>\n",
       "      <td>1.000000</td>\n",
       "    </tr>\n",
       "  </tbody>\n",
       "</table>\n",
       "</div>"
      ],
      "text/plain": [
       "             user_id        log_id    sequence_id        correct\n",
       "count  708631.000000  7.086310e+05  708631.000000  708631.000000\n",
       "mean   296232.978276  1.695323e+08   22683.474821       0.725502\n",
       "std     48018.650247  3.608096e+06   41593.028018       0.437467\n",
       "min     50121.000000  1.509145e+08    5898.000000       0.000000\n",
       "25%    279113.000000  1.660355e+08    7020.000000       0.000000\n",
       "50%    299168.000000  1.704579e+08    9424.000000       1.000000\n",
       "75%    335647.000000  1.723789e+08   14442.000000       1.000000\n",
       "max    362374.000000  1.754827e+08  236309.000000       1.000000"
      ]
     },
     "execution_count": 2,
     "metadata": {},
     "output_type": "execute_result"
    }
   ],
   "source": [
    "data_csv.describe()"
   ]
  },
  {
   "attachments": {},
   "cell_type": "markdown",
   "metadata": {},
   "source": [
    "The dataset includes **708631 rows**."
   ]
  },
  {
   "cell_type": "code",
   "execution_count": 3,
   "metadata": {},
   "outputs": [
    {
     "name": "stdout",
     "output_type": "stream",
     "text": [
      "Part of missing values for every column\n",
      "user_id        0.0\n",
      "log_id         0.0\n",
      "sequence_id    0.0\n",
      "correct        0.0\n",
      "dtype: float64\n"
     ]
    }
   ],
   "source": [
    "print('Part of missing values for every column')\n",
    "print(data_csv.isnull().sum() / len(data_csv))"
   ]
  },
  {
   "attachments": {},
   "cell_type": "markdown",
   "metadata": {},
   "source": [
    "As the data includes no missing values, we do not have to handle missing values"
   ]
  },
  {
   "cell_type": "code",
   "execution_count": 4,
   "metadata": {},
   "outputs": [
    {
     "name": "stdout",
     "output_type": "stream",
     "text": [
      "The number of unique values for every column\n",
      "user_id         19917\n",
      "log_id         708631\n",
      "sequence_id       100\n",
      "correct            11\n",
      "dtype: int64\n"
     ]
    }
   ],
   "source": [
    "print('The number of unique values for every column')\n",
    "print(data_csv.nunique())"
   ]
  },
  {
   "attachments": {},
   "cell_type": "markdown",
   "metadata": {},
   "source": [
    "The dataset records 19917 students answering 100 problem sets. Each row has one unique `log_id`. Lastly, there are multiple values of `correct`, however we only focus on the value of 0 and 1."
   ]
  },
  {
   "attachments": {},
   "cell_type": "markdown",
   "metadata": {},
   "source": [
    "Some of the necessary EDA steps when dealing with tabular data in machine learning are:\n",
    "\n",
    "- Check the frequency counts and distribution of the target variable to see if there is any class imbalance or skewness.\n",
    "- Check the distribution of each feature to see if there are any outliers, missing values, or anomalies.\n",
    "- Check the correlation matrix and scatter plots to see how different features are related to each other and to the target variable.\n",
    "- Check the statistical significance of the features using hypothesis testing or feature selection methods to see which ones are important for predicting the target variable.\n",
    "- Check the distributional fit of the features and apply transformations if needed to make them more suitable for machine learning algorithms.\n",
    "- Check for multicollinearity and remove redundant features if needed to avoid overfitting and improve model performance."
   ]
  },
  {
   "cell_type": "code",
   "execution_count": 5,
   "metadata": {},
   "outputs": [
    {
     "name": "stdout",
     "output_type": "stream",
     "text": [
      "Correlation between columns\n",
      "              user_id    log_id  sequence_id   correct\n",
      "user_id      1.000000  0.515198    -0.040369  0.028428\n",
      "log_id       0.515198  1.000000    -0.009621  0.054341\n",
      "sequence_id -0.040369 -0.009621     1.000000 -0.069912\n",
      "correct      0.028428  0.054341    -0.069912  1.000000\n"
     ]
    }
   ],
   "source": [
    "print('Correlation between columns')\n",
    "print(data_csv.corr())"
   ]
  },
  {
   "attachments": {},
   "cell_type": "markdown",
   "metadata": {},
   "source": [
    "There are little correlation from other columns to the `correct` column"
   ]
  },
  {
   "cell_type": "code",
   "execution_count": 6,
   "metadata": {},
   "outputs": [
    {
     "name": "stderr",
     "output_type": "stream",
     "text": [
      "c:\\Users\\Admin\\AppData\\Local\\Programs\\Python\\Python311\\Lib\\site-packages\\statsmodels\\regression\\linear_model.py:1781: RuntimeWarning: divide by zero encountered in scalar divide\n",
      "  return 1 - self.ssr/self.centered_tss\n"
     ]
    },
    {
     "name": "stdout",
     "output_type": "stream",
     "text": [
      "      variable       VIF\n",
      "0    Intercept  0.000000\n",
      "1      user_id  1.363667\n",
      "2       log_id  1.361571\n",
      "3  sequence_id  1.001803\n"
     ]
    }
   ],
   "source": [
    "from patsy import dmatrices\n",
    "from statsmodels.stats.outliers_influence import variance_inflation_factor\n",
    "\n",
    "#find design matrix for regression model using 'rating' as response variable\n",
    "y, X = dmatrices('correct ~ user_id+log_id+sequence_id', data=data_csv, return_type='dataframe')\n",
    "#create DataFrame to hold VIF values\n",
    "vif_df = pd.DataFrame()\n",
    "vif_df['variable'] = X.columns\n",
    "\n",
    "#calculate VIF for each predictor variable\n",
    "vif_df['VIF'] = [variance_inflation_factor(X.values, i) for i in range(X.shape[1])]\n",
    "\n",
    "#view VIF for each predictor variable\n",
    "print(vif_df)"
   ]
  },
  {
   "attachments": {},
   "cell_type": "markdown",
   "metadata": {},
   "source": [
    "The multicollinearity is not present in this dataset as VIF is smaller than 5"
   ]
  },
  {
   "attachments": {},
   "cell_type": "markdown",
   "metadata": {},
   "source": [
    "## Data preprocessing"
   ]
  },
  {
   "cell_type": "code",
   "execution_count": 7,
   "metadata": {},
   "outputs": [
    {
     "data": {
      "text/html": [
       "<div>\n",
       "<style scoped>\n",
       "    .dataframe tbody tr th:only-of-type {\n",
       "        vertical-align: middle;\n",
       "    }\n",
       "\n",
       "    .dataframe tbody tr th {\n",
       "        vertical-align: top;\n",
       "    }\n",
       "\n",
       "    .dataframe thead th {\n",
       "        text-align: right;\n",
       "    }\n",
       "</style>\n",
       "<table border=\"1\" class=\"dataframe\">\n",
       "  <thead>\n",
       "    <tr style=\"text-align: right;\">\n",
       "      <th></th>\n",
       "      <th>user_id</th>\n",
       "      <th>log_id</th>\n",
       "      <th>item_id</th>\n",
       "      <th>correct</th>\n",
       "      <th>skill_id</th>\n",
       "      <th>timestamp</th>\n",
       "    </tr>\n",
       "  </thead>\n",
       "  <tbody>\n",
       "    <tr>\n",
       "      <th>0</th>\n",
       "      <td>50121</td>\n",
       "      <td>167478035</td>\n",
       "      <td>7014</td>\n",
       "      <td>0.0</td>\n",
       "      <td>7014</td>\n",
       "      <td>0</td>\n",
       "    </tr>\n",
       "    <tr>\n",
       "      <th>1</th>\n",
       "      <td>50121</td>\n",
       "      <td>167478043</td>\n",
       "      <td>7014</td>\n",
       "      <td>1.0</td>\n",
       "      <td>7014</td>\n",
       "      <td>0</td>\n",
       "    </tr>\n",
       "    <tr>\n",
       "      <th>2</th>\n",
       "      <td>50121</td>\n",
       "      <td>167478053</td>\n",
       "      <td>7014</td>\n",
       "      <td>1.0</td>\n",
       "      <td>7014</td>\n",
       "      <td>0</td>\n",
       "    </tr>\n",
       "    <tr>\n",
       "      <th>3</th>\n",
       "      <td>50121</td>\n",
       "      <td>167478069</td>\n",
       "      <td>7014</td>\n",
       "      <td>1.0</td>\n",
       "      <td>7014</td>\n",
       "      <td>0</td>\n",
       "    </tr>\n",
       "    <tr>\n",
       "      <th>4</th>\n",
       "      <td>50964</td>\n",
       "      <td>167478041</td>\n",
       "      <td>7014</td>\n",
       "      <td>1.0</td>\n",
       "      <td>7014</td>\n",
       "      <td>0</td>\n",
       "    </tr>\n",
       "  </tbody>\n",
       "</table>\n",
       "</div>"
      ],
      "text/plain": [
       "   user_id     log_id  item_id  correct  skill_id  timestamp\n",
       "0    50121  167478035     7014      0.0      7014          0\n",
       "1    50121  167478043     7014      1.0      7014          0\n",
       "2    50121  167478053     7014      1.0      7014          0\n",
       "3    50121  167478069     7014      1.0      7014          0\n",
       "4    50964  167478041     7014      1.0      7014          0"
      ]
     },
     "execution_count": 7,
     "metadata": {},
     "output_type": "execute_result"
    }
   ],
   "source": [
    "import numpy as np\n",
    "\n",
    "data_csv = data_csv.rename(columns={'sequence_id': \"item_id\"})\n",
    "data_csv[\"skill_id\"] = data_csv[\"item_id\"]\n",
    "data_csv[\"timestamp\"] = np.zeros(len(data_csv), dtype=np.int64)\n",
    "data_csv.head()"
   ]
  },
  {
   "cell_type": "code",
   "execution_count": 8,
   "metadata": {},
   "outputs": [
    {
     "data": {
      "text/html": [
       "<div>\n",
       "<style scoped>\n",
       "    .dataframe tbody tr th:only-of-type {\n",
       "        vertical-align: middle;\n",
       "    }\n",
       "\n",
       "    .dataframe tbody tr th {\n",
       "        vertical-align: top;\n",
       "    }\n",
       "\n",
       "    .dataframe thead th {\n",
       "        text-align: right;\n",
       "    }\n",
       "</style>\n",
       "<table border=\"1\" class=\"dataframe\">\n",
       "  <thead>\n",
       "    <tr style=\"text-align: right;\">\n",
       "      <th></th>\n",
       "      <th>user_id</th>\n",
       "      <th>log_id</th>\n",
       "      <th>item_id</th>\n",
       "      <th>correct</th>\n",
       "      <th>skill_id</th>\n",
       "      <th>timestamp</th>\n",
       "    </tr>\n",
       "  </thead>\n",
       "  <tbody>\n",
       "    <tr>\n",
       "      <th>count</th>\n",
       "      <td>683801.000000</td>\n",
       "      <td>6.838010e+05</td>\n",
       "      <td>683801.000000</td>\n",
       "      <td>683801.000000</td>\n",
       "      <td>683801.000000</td>\n",
       "      <td>683801.0</td>\n",
       "    </tr>\n",
       "    <tr>\n",
       "      <th>mean</th>\n",
       "      <td>294948.812122</td>\n",
       "      <td>1.693978e+08</td>\n",
       "      <td>22753.185753</td>\n",
       "      <td>0.731761</td>\n",
       "      <td>22753.185753</td>\n",
       "      <td>0.0</td>\n",
       "    </tr>\n",
       "    <tr>\n",
       "      <th>std</th>\n",
       "      <td>48033.447912</td>\n",
       "      <td>3.594528e+06</td>\n",
       "      <td>41869.791331</td>\n",
       "      <td>0.443043</td>\n",
       "      <td>41869.791331</td>\n",
       "      <td>0.0</td>\n",
       "    </tr>\n",
       "    <tr>\n",
       "      <th>min</th>\n",
       "      <td>50121.000000</td>\n",
       "      <td>1.509145e+08</td>\n",
       "      <td>5898.000000</td>\n",
       "      <td>0.000000</td>\n",
       "      <td>5898.000000</td>\n",
       "      <td>0.0</td>\n",
       "    </tr>\n",
       "    <tr>\n",
       "      <th>25%</th>\n",
       "      <td>278695.000000</td>\n",
       "      <td>1.659241e+08</td>\n",
       "      <td>7020.000000</td>\n",
       "      <td>0.000000</td>\n",
       "      <td>7020.000000</td>\n",
       "      <td>0.0</td>\n",
       "    </tr>\n",
       "    <tr>\n",
       "      <th>50%</th>\n",
       "      <td>295262.000000</td>\n",
       "      <td>1.703996e+08</td>\n",
       "      <td>9424.000000</td>\n",
       "      <td>1.000000</td>\n",
       "      <td>9424.000000</td>\n",
       "      <td>0.0</td>\n",
       "    </tr>\n",
       "    <tr>\n",
       "      <th>75%</th>\n",
       "      <td>333872.000000</td>\n",
       "      <td>1.721740e+08</td>\n",
       "      <td>14442.000000</td>\n",
       "      <td>1.000000</td>\n",
       "      <td>14442.000000</td>\n",
       "      <td>0.0</td>\n",
       "    </tr>\n",
       "    <tr>\n",
       "      <th>max</th>\n",
       "      <td>362374.000000</td>\n",
       "      <td>1.754827e+08</td>\n",
       "      <td>236309.000000</td>\n",
       "      <td>1.000000</td>\n",
       "      <td>236309.000000</td>\n",
       "      <td>0.0</td>\n",
       "    </tr>\n",
       "  </tbody>\n",
       "</table>\n",
       "</div>"
      ],
      "text/plain": [
       "             user_id        log_id        item_id        correct  \\\n",
       "count  683801.000000  6.838010e+05  683801.000000  683801.000000   \n",
       "mean   294948.812122  1.693978e+08   22753.185753       0.731761   \n",
       "std     48033.447912  3.594528e+06   41869.791331       0.443043   \n",
       "min     50121.000000  1.509145e+08    5898.000000       0.000000   \n",
       "25%    278695.000000  1.659241e+08    7020.000000       0.000000   \n",
       "50%    295262.000000  1.703996e+08    9424.000000       1.000000   \n",
       "75%    333872.000000  1.721740e+08   14442.000000       1.000000   \n",
       "max    362374.000000  1.754827e+08  236309.000000       1.000000   \n",
       "\n",
       "            skill_id  timestamp  \n",
       "count  683801.000000   683801.0  \n",
       "mean    22753.185753        0.0  \n",
       "std     41869.791331        0.0  \n",
       "min      5898.000000        0.0  \n",
       "25%      7020.000000        0.0  \n",
       "50%      9424.000000        0.0  \n",
       "75%     14442.000000        0.0  \n",
       "max    236309.000000        0.0  "
      ]
     },
     "execution_count": 8,
     "metadata": {},
     "output_type": "execute_result"
    }
   ],
   "source": [
    "data_csv = data_csv[data_csv[\"correct\"].isin([0, 1])]\n",
    "data_csv[\"correct\"] = data_csv[\"correct\"].astype(np.int32)\n",
    "data_csv.describe()"
   ]
  },
  {
   "cell_type": "code",
   "execution_count": 9,
   "metadata": {},
   "outputs": [
    {
     "data": {
      "text/html": [
       "<div>\n",
       "<style scoped>\n",
       "    .dataframe tbody tr th:only-of-type {\n",
       "        vertical-align: middle;\n",
       "    }\n",
       "\n",
       "    .dataframe tbody tr th {\n",
       "        vertical-align: top;\n",
       "    }\n",
       "\n",
       "    .dataframe thead th {\n",
       "        text-align: right;\n",
       "    }\n",
       "</style>\n",
       "<table border=\"1\" class=\"dataframe\">\n",
       "  <thead>\n",
       "    <tr style=\"text-align: right;\">\n",
       "      <th></th>\n",
       "      <th>user_id</th>\n",
       "      <th>log_id</th>\n",
       "      <th>item_id</th>\n",
       "      <th>correct</th>\n",
       "      <th>skill_id</th>\n",
       "      <th>timestamp</th>\n",
       "    </tr>\n",
       "  </thead>\n",
       "  <tbody>\n",
       "    <tr>\n",
       "      <th>17</th>\n",
       "      <td>0</td>\n",
       "      <td>167477835</td>\n",
       "      <td>92</td>\n",
       "      <td>0</td>\n",
       "      <td>92</td>\n",
       "      <td>0</td>\n",
       "    </tr>\n",
       "    <tr>\n",
       "      <th>18</th>\n",
       "      <td>0</td>\n",
       "      <td>167477856</td>\n",
       "      <td>92</td>\n",
       "      <td>0</td>\n",
       "      <td>92</td>\n",
       "      <td>0</td>\n",
       "    </tr>\n",
       "    <tr>\n",
       "      <th>19</th>\n",
       "      <td>0</td>\n",
       "      <td>167477877</td>\n",
       "      <td>92</td>\n",
       "      <td>1</td>\n",
       "      <td>92</td>\n",
       "      <td>0</td>\n",
       "    </tr>\n",
       "    <tr>\n",
       "      <th>20</th>\n",
       "      <td>0</td>\n",
       "      <td>167477884</td>\n",
       "      <td>92</td>\n",
       "      <td>0</td>\n",
       "      <td>92</td>\n",
       "      <td>0</td>\n",
       "    </tr>\n",
       "    <tr>\n",
       "      <th>21</th>\n",
       "      <td>0</td>\n",
       "      <td>167477890</td>\n",
       "      <td>92</td>\n",
       "      <td>1</td>\n",
       "      <td>92</td>\n",
       "      <td>0</td>\n",
       "    </tr>\n",
       "  </tbody>\n",
       "</table>\n",
       "</div>"
      ],
      "text/plain": [
       "    user_id     log_id  item_id  correct  skill_id  timestamp\n",
       "17        0  167477835       92        0        92          0\n",
       "18        0  167477856       92        0        92          0\n",
       "19        0  167477877       92        1        92          0\n",
       "20        0  167477884       92        0        92          0\n",
       "21        0  167477890       92        1        92          0"
      ]
     },
     "execution_count": 9,
     "metadata": {},
     "output_type": "execute_result"
    }
   ],
   "source": [
    "data_csv = data_csv.groupby(\"user_id\").filter(lambda x: len(x) >= 10)\n",
    "data_csv = data_csv[~data_csv[\"skill_id\"].isnull()]\n",
    "data_csv[\"user_id\"] = np.unique(data_csv[\"user_id\"], return_inverse=True)[1]\n",
    "data_csv[\"item_id\"] = np.unique(data_csv[\"item_id\"], return_inverse=True)[1]\n",
    "data_csv[\"skill_id\"] = np.unique(data_csv[\"skill_id\"], return_inverse=True)[1]\n",
    "data_csv.head()"
   ]
  },
  {
   "attachments": {},
   "cell_type": "markdown",
   "metadata": {},
   "source": [
    "For the sake of simplicity, I want to re-structure the dataset as following:\n",
    "\n",
    "- Each row corresponds to one students\n",
    "- The user_id is discarded to avoid overfitting\n",
    "- Each row has two columns: The first column includes the list of questions that the student took. The second column includes the result of student's answer respectively. The questions are sorted in chronological order"
   ]
  },
  {
   "cell_type": "code",
   "execution_count": 10,
   "metadata": {},
   "outputs": [],
   "source": [
    "#convert list of sequence_ids into string\n",
    "def convert(list):\n",
    "    s = [str(i) for i in list]\n",
    "    res = \",\".join(s)\n",
    "    return(res)\n",
    "#sort data by log_id\n",
    "data_csv = data_csv.sort_values(by=[\"log_id\"])\n",
    "\n",
    "group = data_csv.groupby(\"user_id\")\n",
    "preprocessed_data = pd.DataFrame(columns=[\"sequence_ids\", \"correctness\"])\n",
    "n_user = len(group)\n",
    "for user_id in range(n_user):\n",
    "    user_data = group.get_group(user_id)\n",
    "    sequence_ids = user_data[\"item_id\"].values\n",
    "    correctness = user_data[\"correct\"].values\n",
    "    preprocessed_data.loc[user_id] = [convert(sequence_ids), convert(correctness)]\n",
    "#write preprocessed data to csv file\n",
    "preprocessed_data.to_csv(\"./data/preprocessed_data.csv\", sep=\"\\t\", index=False)\n",
    "#separate preprocessed data into train and test sets\n",
    "train_data = preprocessed_data[: int(0.8 * len(preprocessed_data))]\n",
    "test_data = preprocessed_data[int(0.8 * len(preprocessed_data)) :]\n",
    "#write train and test data to csv files\n",
    "train_data.to_csv(\"./data/assist2015_train.csv\", sep=\"\\t\", index=False, header=False)\n",
    "test_data.to_csv(\"./data/assist2015_test.csv\", sep=\"\\t\", index=False, header=False)"
   ]
  },
  {
   "attachments": {},
   "cell_type": "markdown",
   "metadata": {},
   "source": [
    "## Model selection"
   ]
  },
  {
   "attachments": {},
   "cell_type": "markdown",
   "metadata": {},
   "source": [
    "#### Task\n"
   ]
  },
  {
   "attachments": {},
   "cell_type": "markdown",
   "metadata": {},
   "source": [
    "#### Why this model?"
   ]
  },
  {
   "attachments": {},
   "cell_type": "markdown",
   "metadata": {},
   "source": [
    "I decided to use SADK model based on attention mechanism for this task."
   ]
  }
 ],
 "metadata": {
  "kernelspec": {
   "display_name": "knowlegde-tracing",
   "language": "python",
   "name": "python3"
  },
  "language_info": {
   "codemirror_mode": {
    "name": "ipython",
    "version": 3
   },
   "file_extension": ".py",
   "mimetype": "text/x-python",
   "name": "python",
   "nbconvert_exporter": "python",
   "pygments_lexer": "ipython3",
   "version": "3.11.3"
  },
  "orig_nbformat": 4
 },
 "nbformat": 4,
 "nbformat_minor": 2
}
